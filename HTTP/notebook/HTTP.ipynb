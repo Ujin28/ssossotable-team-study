{
 "cells": [
  {
   "cell_type": "markdown",
   "source": [
    "## HTTP 통신 실습\n",
    "#### android volley api와 nodejs express를 이용한 HTTP POST requst/response실습"
   ],
   "metadata": {
    "collapsed": false,
    "pycharm": {
     "name": "#%% md\n"
    }
   }
  },
  {
   "cell_type": "markdown",
   "source": [
    "### 안드로이드 java 코드 작성\n",
    "---\n",
    "### 초기 설정\n",
    "---\n",
    "### 1. 인터넷 통신 허용\n",
    "##### 매니페스트 파일에 <<uses-permission android:name=\"android.permission.INTERNET\" /> 추가\n",
    "\n",
    "### 2. http통신 허용\n",
    "##### 매니페스트 파일 어플리케이션 단에  android:usesCleartextTraffic=\"true\" 추가\n",
    "\n",
    "### 3. 뷰바인딩\n",
    "##### 모듈 수준 gradle의 application부분에정\n",
    "\n",
    "```\n",
    "viewBinding {\n",
    "        enabled true\n",
    "    }\n",
    "```\n",
    "##### 추가\n",
    "\n",
    "### 4. volley library추가\n",
    "##### maven repository에서 volley검색 후\n",
    "##### 프로젝트 gradle에 추가"
   ],
   "metadata": {
    "collapsed": false,
    "pycharm": {
     "name": "#%% md\n"
    }
   }
  },
  {
   "cell_type": "markdown",
   "source": [
    "###  nodejs코드 작성\n",
    "---\n",
    "### 초기 설정\n",
    "---\n",
    "### 1. express설치\n",
    "##### npm install express\n",
    "\n",
    "### 2. pm2설치\n",
    "##### npm install pm2 -g"
   ],
   "metadata": {
    "collapsed": false,
    "pycharm": {
     "name": "#%% md\n"
    }
   }
  },
  {
   "cell_type": "markdown",
   "source": [
    "### 작업 할당\n",
    "\n",
    "#### sovoro의 loading 화면 구현\n",
    "- response 객체는 다음과 같다고 가정하여 구현해보세요\n",
    "- model 클래스인 사용자 정보, 단어정보 클래스에 해당 값을 지정하세요\n",
    "- model 클래스는 직접 구현해도 되고, 구현해 둔 클래스를 사용해도 돼요\n",
    "```javascript\n",
    "const wordList={\n",
    "    'mainword':[\n",
    "        'ma','mb','mc','md','me','mf','mg','mh','mi','mj'\n",
    "    ],\n",
    "    'testword1':[\n",
    "        't1a','t1b','t1c','t1d','t1e','t1f','t1g','t1h','t1i','t1j'\n",
    "    ],\n",
    "    'testword2':[\n",
    "        't2a','t2b','t2c','t2d','t2e','t2f','t2g','t2h','t2i','t2j'\n",
    "    ],\n",
    "    'testword3':[\n",
    "        't3a','t3b','t3c','t3d','t3e','t3f','t3g','t3h','t3i','t3j'\n",
    "    ]\n",
    "}\n",
    "```\n",
    "\n",
    "##### sovoro의 signup 화면 구현\n",
    "- 사용자 아이디, 비밀번호 닉네임을 서버에 request해 보세요\n",
    "- 전화번호 인증, 닉네임 중복 등은 구현하지 않아요(해당 기능 구현을 위해서는 스레드와 소켓을 사용해야 하기 때문이에요)\n",
    "\n",
    "##### 백엔드는 신경쓰지 않아요(백엔드는 기능한다고 가정하고-위 객체 바탕으로 실행해 보세요- 코드 작성하세요)"
   ],
   "metadata": {
    "collapsed": false,
    "pycharm": {
     "name": "#%% md\n"
    }
   }
  }
 ],
 "metadata": {
  "kernelspec": {
   "display_name": "Python 3",
   "language": "python",
   "name": "python3"
  },
  "language_info": {
   "codemirror_mode": {
    "name": "ipython",
    "version": 2
   },
   "file_extension": ".py",
   "mimetype": "text/x-python",
   "name": "python",
   "nbconvert_exporter": "python",
   "pygments_lexer": "ipython2",
   "version": "2.7.6"
  }
 },
 "nbformat": 4,
 "nbformat_minor": 0
}