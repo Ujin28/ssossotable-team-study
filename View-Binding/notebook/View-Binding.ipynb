{
 "cells": [
  {
   "cell_type": "markdown",
   "id": "3070a158",
   "metadata": {},
   "source": [
    "## 뷰 바인딩\n",
    "- 안드로이드에서 기존의 레이아웃 객체를 직접 접근하는 것이 아닌 바인딩을 통해 접근하는 것\n",
    "- 2020년 출시된 안드로이드 3.6에서 처음 등장\n",
    "    - 상대적으로 최신 기술"
   ]
  },
  {
   "cell_type": "markdown",
   "id": "e6f1f9ef",
   "metadata": {},
   "source": [
    "### 뷰 바인딩-사용법-"
   ]
  },
  {
   "cell_type": "markdown",
   "id": "c03e05a3",
   "metadata": {},
   "source": [
    "### 1. gradle에 종속성 추가\n",
    "\n",
    "```\n",
    "android {\n",
    "    ...\n",
    "    viewBinding {\n",
    "        enabled true\n",
    "    }\n",
    "}\n",
    "\n",
    "```"
   ]
  },
  {
   "cell_type": "markdown",
   "id": "1e47b31c",
   "metadata": {},
   "source": [
    "### 2. 액티비티에서의 사용\n",
    "```java\n",
    "public class MainActivity extends AppCompatActivity {\n",
    "    // 해당 액티비티 이름으로 바인딩이 생성됨\n",
    "    // MainActivity 이므로 ActivityMainBinding\n",
    "    private ActivityMainBinding binding;\n",
    " \n",
    "    @Override\n",
    "    protected void onCreate(Bundle savedInstanceState) {\n",
    "        super.onCreate(savedInstanceState);\n",
    "        \n",
    "        // 바인딩 등록\n",
    "        binding = ActivityMainBinding.inflate(getLayoutInflater()); // 1\n",
    "        setContentView(binding.getRoot()); // 2\n",
    "    }\n",
    "}\n",
    "```"
   ]
  },
  {
   "cell_type": "markdown",
   "id": "b9507b45",
   "metadata": {},
   "source": [
    "### 3. 참조-공식문서-\n",
    "\n",
    "https://developer.android.com/topic/libraries/view-binding?hl=ko"
   ]
  }
 ],
 "metadata": {
  "kernelspec": {
   "display_name": "Python 3 (ipykernel)",
   "language": "python",
   "name": "python3"
  },
  "language_info": {
   "codemirror_mode": {
    "name": "ipython",
    "version": 3
   },
   "file_extension": ".py",
   "mimetype": "text/x-python",
   "name": "python",
   "nbconvert_exporter": "python",
   "pygments_lexer": "ipython3",
   "version": "3.8.10"
  }
 },
 "nbformat": 4,
 "nbformat_minor": 5
}
