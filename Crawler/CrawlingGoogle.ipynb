{
 "cells": [
  {
   "cell_type": "code",
   "execution_count": 1,
   "id": "8d949faa",
   "metadata": {},
   "outputs": [],
   "source": [
    "from IPython.display import Image"
   ]
  },
  {
   "cell_type": "code",
   "execution_count": 2,
   "id": "b6a588b9",
   "metadata": {},
   "outputs": [],
   "source": [
    "# 크롤링 관련 모듈\n",
    "from bs4 import BeautifulSoup \n",
    "from selenium import webdriver\n",
    "from selenium.webdriver.common.by import By \n",
    "from selenium.webdriver.common.action_chains import ActionChains\n",
    "from selenium.webdriver.common.keys import Keys\n",
    "from selenium.webdriver.chrome.service import Service\n",
    "from webdriver_manager.chrome import ChromeDriverManager\n",
    "\n",
    "import time"
   ]
  },
  {
   "cell_type": "code",
   "execution_count": 3,
   "id": "a0116203",
   "metadata": {},
   "outputs": [],
   "source": [
    "driver=None"
   ]
  },
  {
   "cell_type": "code",
   "execution_count": 4,
   "id": "b584380a",
   "metadata": {},
   "outputs": [],
   "source": [
    "# 드라이버 세팅 함수\n",
    "def set_chrome_driver():\n",
    "    global driver\n",
    "    if driver is None:\n",
    "        chrome_options = webdriver.ChromeOptions()\n",
    "        return webdriver.Chrome(service=Service(ChromeDriverManager().install()), options=chrome_options)\n",
    "    else:\n",
    "        return driver"
   ]
  },
  {
   "cell_type": "code",
   "execution_count": 5,
   "id": "d85b8092",
   "metadata": {},
   "outputs": [],
   "source": [
    "# 드라이버 리셋 함수\n",
    "def reset_driver():\n",
    "    global driver\n",
    "    driver.quit()\n",
    "    if driver is None:\n",
    "        pass\n",
    "    else:\n",
    "        driver = None"
   ]
  },
  {
   "cell_type": "code",
   "execution_count": 6,
   "id": "709a5e2e",
   "metadata": {},
   "outputs": [],
   "source": [
    "# 드라이버 세팅\n",
    "driver=set_chrome_driver()"
   ]
  },
  {
   "cell_type": "code",
   "execution_count": 7,
   "id": "5a326b4d",
   "metadata": {},
   "outputs": [],
   "source": [
    "# db 접근\n",
    "import pymysql"
   ]
  },
  {
   "cell_type": "code",
   "execution_count": 8,
   "id": "5f38691d",
   "metadata": {},
   "outputs": [],
   "source": [
    " conn = pymysql.connect(\n",
    "     host='18.117.197.254', \n",
    "     user='ssossotable', \n",
    "     password='Mysql7968!', \n",
    "     db='ssossotable_food', \n",
    "     charset='utf8')"
   ]
  },
  {
   "cell_type": "code",
   "execution_count": 9,
   "id": "379f4850",
   "metadata": {},
   "outputs": [],
   "source": [
    "foodList = []\n",
    "imageSrcList = []"
   ]
  },
  {
   "cell_type": "code",
   "execution_count": 10,
   "id": "74da9aa1",
   "metadata": {},
   "outputs": [],
   "source": [
    "with conn.cursor() as cursor1:\n",
    "    sql = \"SELECT name FROM food ORDER BY id\"\n",
    "    cursor1.execute(sql)\n",
    "    result = cursor1.fetchall()\n",
    "    for food in result:\n",
    "        foodList.append(food[0])"
   ]
  },
  {
   "cell_type": "code",
   "execution_count": 66,
   "id": "04690457",
   "metadata": {},
   "outputs": [],
   "source": [
    "for i in range(len(imageSrcList), len(foodList)):\n",
    "    URL=\"https://www.google.com/search?q=\"+foodList[i]+\"&hl=ko&source=lnms&tbm=isch&sa=X&ved=2ahUKEwjuu9Lk1sP7AhU4h1YBHWpxA9IQ_AUoAXoECAIQAw&biw=1109&bih=854&dpr=1.5\"\n",
    "    # 타겟 페이지 접속\n",
    "    driver.get(URL)\n",
    "    time.sleep(2)\n",
    "    driver.find_element(By.XPATH, \n",
    "        \"//*[@id='islrg']/div[1]/div[1]/a[1]/div[1]/img\").click()\n",
    "    time.sleep(1)\n",
    "    e = driver.find_elements(By.CLASS_NAME, 'KAlRDb')\n",
    "    time.sleep(2)\n",
    "    image = e[0].get_dom_attribute('src')\n",
    "    imageSrcList.append(image)"
   ]
  },
  {
   "cell_type": "markdown",
   "id": "f1e3ff2b",
   "metadata": {},
   "source": [
    "오류 날 경우"
   ]
  },
  {
   "cell_type": "code",
   "execution_count": 65,
   "id": "45b22719",
   "metadata": {},
   "outputs": [],
   "source": [
    "URL=\"https://www.google.com/search?q=\"+foodList[len(imageSrcList)]+\"&hl=ko&source=lnms&tbm=isch&sa=X&ved=2ahUKEwjuu9Lk1sP7AhU4h1YBHWpxA9IQ_AUoAXoECAIQAw&biw=1109&bih=854&dpr=1.5\"\n",
    "# 타겟 페이지 접속\n",
    "driver.get(URL)\n",
    "time.sleep(2)\n",
    "driver.find_element(By.XPATH, \n",
    "    \"//*[@id='islrg']/div[1]/div[2]/a[1]/div[1]/img\").click()\n",
    "time.sleep(1)\n",
    "e = driver.find_elements(By.CLASS_NAME, 'KAlRDb')\n",
    "time.sleep(2)\n",
    "image = e[0].get_dom_attribute('src')\n",
    "imageSrcList.append(image)"
   ]
  },
  {
   "cell_type": "code",
   "execution_count": 58,
   "id": "fe5081d5",
   "metadata": {},
   "outputs": [],
   "source": [
    "imageSrcList.append(\"http://ssossotable.com/src/food_placeholder.png\")"
   ]
  },
  {
   "cell_type": "markdown",
   "id": "578371d2",
   "metadata": {},
   "source": [
    "update 문"
   ]
  },
  {
   "cell_type": "code",
   "execution_count": 67,
   "id": "533ac24b",
   "metadata": {},
   "outputs": [],
   "source": [
    "with conn.cursor() as cursor2:\n",
    "    i = 0\n",
    "    for src in imageSrcList:\n",
    "        sql = \"UPDATE food SET image_yhj = %s WHERE name = %s\"\n",
    "        cursor2.execute(sql, (src, foodList[i]))\n",
    "        conn.commit()\n",
    "        i+=1"
   ]
  }
 ],
 "metadata": {
  "kernelspec": {
   "display_name": "Python 3 (ipykernel)",
   "language": "python",
   "name": "python3"
  },
  "language_info": {
   "codemirror_mode": {
    "name": "ipython",
    "version": 3
   },
   "file_extension": ".py",
   "mimetype": "text/x-python",
   "name": "python",
   "nbconvert_exporter": "python",
   "pygments_lexer": "ipython3",
   "version": "3.9.7"
  }
 },
 "nbformat": 4,
 "nbformat_minor": 5
}
